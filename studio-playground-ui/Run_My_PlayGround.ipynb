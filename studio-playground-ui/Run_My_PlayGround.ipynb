{
 "cells": [
  {
   "attachments": {},
   "cell_type": "markdown",
   "id": "9c7aa5e7",
   "metadata": {},
   "source": [
    "## Installation of Streamlit UI"
   ]
  },
  {
   "cell_type": "code",
   "execution_count": null,
   "id": "3711c999-fb77-48da-a372-684e9a721758",
   "metadata": {
    "tags": []
   },
   "outputs": [],
   "source": [
    "from IPython.display import IFrame\n"
   ]
  },
  {
   "cell_type": "code",
   "execution_count": null,
   "id": "6b95f3fa-1444-45a0-8e9d-ccfad7c3df8d",
   "metadata": {
    "tags": []
   },
   "outputs": [],
   "source": [
    "import sagemaker\n",
    "import jinja2\n",
    "from sagemaker import image_uris\n",
    "import boto3\n",
    "import os\n",
    "import time\n",
    "import json\n",
    "from pathlib import Path\n"
   ]
  },
  {
   "cell_type": "code",
   "execution_count": null,
   "id": "54511796-5e5d-401b-beb3-e37abb31eda3",
   "metadata": {
    "tags": []
   },
   "outputs": [],
   "source": [
    "\n",
    "region = boto3.Session().region_name\n",
    "client = boto3.Session().client(\"sagemaker\")\n",
    "domainId=client.list_domains()[\"Domains\"][0].get(\"DomainId\")\n",
    "sess= sagemaker.session.Session()\n",
    "region = sess._region_name\n",
    "account_id = sess.account_id()\n",
    "\n",
    "vpc_id = client.describe_domain(\n",
    "    DomainId=client.list_domains()[\"Domains\"][0].get(\"DomainId\")\n",
    ").get(\"VpcId\")\n",
    "\n",
    "url = f\"https://{domainId}.studio.{region}.sagemaker.aws/jupyter/default/proxy/8501/\"\n",
    "print(url )"
   ]
  },
  {
   "attachments": {},
   "cell_type": "markdown",
   "id": "44550dfc",
   "metadata": {},
   "source": [
    "# Generative AI Prompt example with Falcon"
   ]
  },
  {
   "attachments": {},
   "cell_type": "markdown",
   "id": "bbeed543",
   "metadata": {},
   "source": [
    "## Use case : Data extraction"
   ]
  },
  {
   "attachments": {},
   "cell_type": "markdown",
   "id": "cb9e2304",
   "metadata": {},
   "source": [
    "<p>Let's say you want to extract structured data from sport news. You can use <b>few shot prompting</b> to extract relevant information such as names, dates, numbers, ect </p> \n",
    "\n",
    "In the example below,I've collected news about soccer transfer information and the goal is to extract a structured JSON document with :\n",
    "- Sport\n",
    "- Person involve in the transfer\n",
    "- Club\n",
    "- Money involve "
   ]
  },
  {
   "attachments": {},
   "cell_type": "markdown",
   "id": "a62ad9d8",
   "metadata": {},
   "source": [
    "- **Parameters** : max_new_tokens = 30 <p>"
   ]
  },
  {
   "attachments": {},
   "cell_type": "markdown",
   "id": "feb6429d",
   "metadata": {},
   "source": [
    "```\n",
    "Text:\n",
    "West Ham have just communicated to Arsenal that they’re accepting £100m plus £5m add-ons fee for Declan Rice. The two clubs remain in talks over deal structure & payment terms — as West Ham want £100m to be paid within 18 months. Final discussions and then… done deal.\n",
    "\n",
    "JSON \n",
    "{sport : foot, who:Declan Rice, club : West Ham ,money:  £100m }\n",
    "\n",
    "Text:\n",
    "BREAKING: Manchester United agree £60m package deal for Mason Mount with Chelsea — it’s done, here we go! \n",
    " #MUFC Personal terms agreed weeks ago and face to face talks between clubs made it clear: the agreement is done. Mount becomes Utd player — they NEVER left the race.\n",
    "\n",
    "\n",
    "JSON \n",
    "{sport : foot, who: Mason Mount, club:Manchester United,  money:   £60m }\n",
    "\n",
    "Text:\n",
    "James Maddison has completed first part of medical tests as new Tottenham player, as expected. \n",
    "#THFC £40m deal to be announced soon — here we go confirmed.\n",
    "\n",
    "JSON \n",
    "{sport : foot, who: James Maddison : club: Tottenham , money:   £60m }\n",
    "\n",
    "Text: \n",
    "Manchester United had new direct talks to be informed on André Onana deal in the last 24 hours. He’s highly rated by Erik ten Hag. 🔴🇨🇲 #MUFC\n",
    "Man Utd, still waiting to clarify David de Gea situation before deciding on official proposal.\n",
    "\n",
    "Inter want at least €50/55m.\n",
    "\n",
    "JSON\n",
    "{sport : foot, who: David De Gea/André Onana  , club : Manchester United , money: €50/55}\n",
    "\n",
    "Text:\n",
    "Medical scheduled for Harry Winks to join Leicester City on permanent deal from Tottenham for £10m fee. 🔵🦊 #LCFC. Separated deal from Maddison but one more set to be completed.\n",
    "\n",
    "JSON\n",
    "```"
   ]
  },
  {
   "attachments": {},
   "cell_type": "markdown",
   "id": "de1cfe00",
   "metadata": {},
   "source": [
    "### Code generation\n",
    "\n",
    "##### Example 1\n",
    "- **Parameters** : max_new_tokens = 200 <p>\n",
    "\n",
    "```\n",
    "Building a website can be done in 10 simple steps\n",
    "```"
   ]
  },
  {
   "attachments": {},
   "cell_type": "markdown",
   "id": "549fd9cb",
   "metadata": {},
   "source": [
    "\n",
    "##### Example 2\n",
    "- **Parameters** : max_new_tokens = 110 <p>\n",
    "```\n",
    "Building a website can be done in 10 simple steps  \n",
    "```"
   ]
  },
  {
   "attachments": {},
   "cell_type": "markdown",
   "id": "59b01737",
   "metadata": {},
   "source": [
    "#### Sentiment Analysis\n",
    "- **Parameters** : max_new_tokens = 8 <p>\n",
    "```\n",
    "I hate it when my phone battery dies.\"\n",
    "Sentiment: Negative\n",
    "###\n",
    "Tweet: \"My day has been :+1:\"\n",
    "Sentiment: Positive\n",
    "###\n",
    "Tweet: \"This is the link to the article\"\n",
    "Sentiment: Neutral\n",
    "###\n",
    "Tweet: \"This new music video was incredibile\"\n",
    "Sentiment:\n",
    "```"
   ]
  },
  {
   "attachments": {},
   "cell_type": "markdown",
   "id": "3085b0f8",
   "metadata": {},
   "source": [
    "#### Text Generation\n",
    "- **Parameters** : max_new_tokens = 400 <p>\n",
    "```\n",
    "What is the recipe for a delicious lemon cheesecake?\n",
    "```\n",
    "                "
   ]
  },
  {
   "attachments": {},
   "cell_type": "markdown",
   "id": "bbff45c9",
   "metadata": {},
   "source": [
    "#### Summarize\n",
    "- **Parameters** : max_new_tokens = 200 <p>\n",
    "```\n",
    "Starting today, the state-of-the-art Falcon 40B foundation model from Technology\n",
    "Innovation Institute (TII) is available on Amazon SageMaker JumpStart, SageMaker's machine learning (ML) hub\n",
    "that offers pre-trained models, built-in algorithms, and pre-built solution templates to help you quickly get\n",
    "started with ML. You can deploy and use this Falcon LLM with a few clicks in SageMaker Studio or\n",
    "programmatically through the SageMaker Python SDK.\n",
    "Falcon 40B is a 40-billion-parameter large language model (LLM) available under the Apache 2.0 license that\n",
    "ranked #1 in Hugging Face Open LLM leaderboard, which tracks, ranks, and evaluates LLMs across multiple\n",
    "benchmarks to identify top performing models. Since its release in May 2023, Falcon 40B has demonstrated\n",
    "exceptional performance without specialized fine-tuning. To make it easier for customers to access this\n",
    "state-of-the-art model, AWS has made Falcon 40B available to customers via Amazon SageMaker JumpStart.\n",
    "Now customers can quickly and easily deploy their own Falcon 40B model and customize it to fit their specific\n",
    "needs for applications such as translation, question answering, and summarizing information.\n",
    "Falcon 40B are generally available today through Amazon SageMaker JumpStart in US East (Ohio),\n",
    "US East (N. Virginia), US West (Oregon), Asia Pacific (Tokyo), Asia Pacific (Seoul), Asia Pacific (Mumbai),\n",
    "Europe (London), Europe (Frankfurt), Europe (Ireland), and Canada (Central),\n",
    "with availability in additional AWS Regions coming soon. To learn how to use this new feature,\n",
    "please see SageMaker JumpStart documentation, the Introduction to SageMaker JumpStart –\n",
    "Text Generation with Falcon LLMs example notebook, and the blog Technology Innovation Institute trainsthe\n",
    "state-of-the-art Falcon LLM 40B foundation model on Amazon SageMaker. Summarize the article above:\n",
    "```\n",
    "      "
   ]
  },
  {
   "attachments": {},
   "cell_type": "markdown",
   "id": "88516125",
   "metadata": {},
   "source": [
    "### Supported parameters\n",
    "\n",
    "***\n",
    "Some of the supported parameters while performing inference are the following:\n",
    "\n",
    "* **max_length:** Model generates text until the output length (which includes the input context length) reaches `max_length`. If specified, it must be a positive integer.\n",
    "* **max_new_tokens:** Model generates text until the output length (excluding the input context length) reaches `max_new_tokens`. If specified, it must be a positive integer.\n",
    "* **num_beams:** Number of beams used in the greedy search. If specified, it must be integer greater than or equal to `num_return_sequences`.\n",
    "* **no_repeat_ngram_size:** Model ensures that a sequence of words of `no_repeat_ngram_size` is not repeated in the output sequence. If specified, it must be a positive integer greater than 1.\n",
    "* **temperature:** Controls the randomness in the output. Higher temperature results in output sequence with low-probability words and lower temperature results in output sequence with high-probability words. If `temperature` -> 0, it results in greedy decoding. If specified, it must be a positive float.\n",
    "* **early_stopping:** If True, text generation is finished when all beam hypotheses reach the end of sentence token. If specified, it must be boolean.\n",
    "* **do_sample:** If True, sample the next word as per the likelihood. If specified, it must be boolean.\n",
    "* **top_k:** In each step of text generation, sample from only the `top_k` most likely words. If specified, it must be a positive integer.\n",
    "* **top_p:** In each step of text generation, sample from the smallest possible set of words with cumulative probability `top_p`. If specified, it must be a float between 0 and 1.\n",
    "* **return_full_text:** If True, input text will be part of the output generated text. If specified, it must be boolean. The default value for it is False.\n",
    "* **stop**: If specified, it must a list of strings. Text generation stops if any one of the specified strings is generated.\n",
    "\n",
    "We may specify any subset of the parameters mentioned above while invoking an endpoint. \n",
    "\n",
    "For more parameters and information on HF LLM DLC, please see [this article](https://huggingface.co/blog/sagemaker-huggingface-llm#4-run-inference-and-chat-with-our-model).\n",
    "***"
   ]
  },
  {
   "cell_type": "markdown",
   "id": "792ab551",
   "metadata": {},
   "source": []
  }
 ],
 "metadata": {
  "instance_type": "ml.t3.medium",
  "kernelspec": {
   "display_name": "Python 3 (Data Science)",
   "language": "python",
   "name": "python3__SAGEMAKER_INTERNAL__arn:aws:sagemaker:us-east-1:081325390199:image/datascience-1.0"
  },
  "language_info": {
   "codemirror_mode": {
    "name": "ipython",
    "version": 3
   },
   "file_extension": ".py",
   "mimetype": "text/x-python",
   "name": "python",
   "nbconvert_exporter": "python",
   "pygments_lexer": "ipython3",
   "version": "3.7.10"
  }
 },
 "nbformat": 4,
 "nbformat_minor": 5
}
